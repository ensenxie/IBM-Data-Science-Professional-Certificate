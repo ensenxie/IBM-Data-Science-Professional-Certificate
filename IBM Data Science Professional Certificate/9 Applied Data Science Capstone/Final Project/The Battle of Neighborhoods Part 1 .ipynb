{
 "cells": [
  {
   "cell_type": "markdown",
   "metadata": {},
   "source": [
    "# Capstone Project - The Battle of Neighborhoods (Week 1)"
   ]
  },
  {
   "cell_type": "markdown",
   "metadata": {},
   "source": [
    "## 1. A description of the problem and a discussion of the background"
   ]
  },
  {
   "cell_type": "markdown",
   "metadata": {},
   "source": [
    "#### Background"
   ]
  },
  {
   "cell_type": "markdown",
   "metadata": {},
   "source": [
    "It's common for people to move in search of new experiences, opportunities, and change. That whole thing about finding yourself? Relocating can help with that discovery.But the grass isn't always greener on the other side. Moving to a new city should be a well-thought out decision rather than a rash one, in which you truly consider the things you like in the new city."
   ]
  },
  {
   "cell_type": "markdown",
   "metadata": {},
   "source": [
    "#### Business Problem"
   ]
  },
  {
   "cell_type": "markdown",
   "metadata": {},
   "source": [
    "Our client is a world renowned pizza connoisseur that reviews pizza places around the world. His next destination is the the United State and he has never been to the country before. He would like to live in a city where there is a high density of pizza places so that he can find out the best pizza that city can offer. In order to solve this problem, we will have to perform an analysis of the pizza store locations in major US cities and find out which city would be the most ideal for my client to perform his review of the best pizza place in that particular city."
   ]
  },
  {
   "cell_type": "markdown",
   "metadata": {},
   "source": [
    "## 2. A description of the data and how it will be used to solve the problem"
   ]
  },
  {
   "cell_type": "markdown",
   "metadata": {},
   "source": [
    "In order to address the aforementioned problem, we will use the FourSquare API for data collection of the locations of pizza stores in five US major cities listed below :\n",
    "\n",
    "<ol>\n",
    "  <li>New York,NY</li>\n",
    "  <li>San Francisco, CA</li>\n",
    "  <li>Jersey City, NJ</li>\n",
    "  <li>Boston, MA</li>\n",
    "  <li>Chicago,IL</li>\n",
    "</ol>\n",
    "\n",
    "These cities are some of the most populated cities in the United States. Thus, they have a high potential of having a large density of pizza places so that my client can perform his review adequately."
   ]
  },
  {
   "cell_type": "markdown",
   "metadata": {},
   "source": [
    "I will be using the Four Square API to determine which of the five aforementioned cities has the highest volume of pizza places. By doing so, I can narrow down which city will be having the most pizza places suitable for our client to live in."
   ]
  }
 ],
 "metadata": {
  "kernelspec": {
   "display_name": "Python",
   "language": "python",
   "name": "conda-env-python-py"
  },
  "language_info": {
   "codemirror_mode": {
    "name": "ipython",
    "version": 3
   },
   "file_extension": ".py",
   "mimetype": "text/x-python",
   "name": "python",
   "nbconvert_exporter": "python",
   "pygments_lexer": "ipython3",
   "version": "3.6.10"
  }
 },
 "nbformat": 4,
 "nbformat_minor": 4
}
